{
 "cells": [
  {
   "cell_type": "code",
   "execution_count": 1,
   "id": "a35960af-117c-45ca-8350-a0ef3d60b2a3",
   "metadata": {},
   "outputs": [
    {
     "name": "stderr",
     "output_type": "stream",
     "text": [
      "/Users/vkumar/Development/llm-agent/.venv/lib/python3.10/site-packages/pydantic/_internal/_fields.py:151: UserWarning: Field \"model_name\" has conflict with protected namespace \"model_\".\n",
      "\n",
      "You may be able to resolve this warning by setting `model_config['protected_namespaces'] = ()`.\n",
      "  warnings.warn(\n",
      "/Users/vkumar/Development/llm-agent/.venv/lib/python3.10/site-packages/pydantic/_internal/_fields.py:151: UserWarning: Field \"model_info\" has conflict with protected namespace \"model_\".\n",
      "\n",
      "You may be able to resolve this warning by setting `model_config['protected_namespaces'] = ()`.\n",
      "  warnings.warn(\n"
     ]
    }
   ],
   "source": [
    "import litellm"
   ]
  },
  {
   "cell_type": "code",
   "execution_count": 5,
   "id": "68d0778d-8383-42f5-869a-4adb2716e1bb",
   "metadata": {},
   "outputs": [
    {
     "data": {
      "text/plain": [
       "'あなたは「まゆ」という名前の会話に長けたAIエージェントです。あなたの説明は以下の通りです：役に立つAIアシスタントです。\\n現在の会話の履歴が与えられるので、会話をうまく続けてください。\\nなるべく簡素に、具体的に返答してください。\\n'"
      ]
     },
     "execution_count": 5,
     "metadata": {},
     "output_type": "execute_result"
    }
   ],
   "source": [
    "name = \"まゆ\"\n",
    "description = \"役に立つAIアシスタントです。\"\n",
    "system_prompt = f\"あなたは「{name}」という名前の会話に長けたAIエージェントです。あなたの説明は以下の通りです：{description}\\n現在の会話の履歴が与えられるので、会話をうまく続けてください。\\nなるべく簡素に、具体的に返答してください。\\n\"\n",
    "system_prompt"
   ]
  },
  {
   "cell_type": "code",
   "execution_count": 7,
   "id": "500e8ccc-d317-44ec-bb82-917037d02c44",
   "metadata": {},
   "outputs": [
    {
     "data": {
      "text/plain": [
       "{'nekomata-instruct-7b': {'roles': {'system': {'pre_message': '<|im_start|>### 指示:\\n',\n",
       "    'post_message': '<|im_end|>'},\n",
       "   'user': {'pre_message': '<|im_start|>### 入力:\\n',\n",
       "    'post_message': '<|im_end|>'},\n",
       "   'assistant': {'pre_message': '<|im_start|>### 応答:\\n'}},\n",
       "  'initial_prompt_value': '<|im_start|>\\n以下は、タスクを説明する指示と、文脈のある入力の組み合わせです。要求を適切に満たす応答を書きなさい。\\n<|im_end|>',\n",
       "  'final_prompt_value': ''}}"
      ]
     },
     "execution_count": 7,
     "metadata": {},
     "output_type": "execute_result"
    }
   ],
   "source": [
    "litellm.register_prompt_template(\n",
    "        model=\"ollama/nekomata-instruct-7b\",\n",
    "        initial_prompt_value=\"<|im_start|>\\n以下は、タスクを説明する指示と、文脈のある入力の組み合わせです。要求を適切に満たす応答を書きなさい。\\n<|im_end|>\",\n",
    "        roles={\n",
    "            \"system\": {\n",
    "                \"pre_message\": \"<|im_start|>### 指示:\\n\",\n",
    "                \"post_message\": \"<|im_end|>\"\n",
    "            },\n",
    "            \"user\": { \n",
    "                \"pre_message\": \"<|im_start|>### 入力:\\n\",\n",
    "                \"post_message\": \"<|im_end|>\"\n",
    "            }, \n",
    "            \"assistant\": {\n",
    "                \"pre_message\": \"<|im_start|>### 応答:\\n\",\n",
    "            }\n",
    "        }\n",
    ")"
   ]
  },
  {
   "cell_type": "code",
   "execution_count": 11,
   "id": "108f7351-ed13-4a08-82da-373eb06e5ad8",
   "metadata": {},
   "outputs": [],
   "source": [
    "messages = [{\"role\":\"system\", \"content\":system_prompt}, {\"role\":\"user\", \"content\":\"こんにちは\"}]"
   ]
  },
  {
   "cell_type": "code",
   "execution_count": 12,
   "id": "d422626c-7471-46a6-8ae3-d0e6fe0e8b5a",
   "metadata": {},
   "outputs": [
    {
     "data": {
      "text/plain": [
       "ModelResponse(id='chatcmpl-4864ee97-7d7f-48d1-a57a-876d3448d879', choices=[Choices(finish_reason='stop', index=0, message=Message(content='こんにちは', role='assistant'))], created=1714364018, model='ollama/nekomata-instruct-7b', object='chat.completion', system_fingerprint=None, usage=Usage(prompt_tokens=231, completion_tokens=2, total_tokens=233))"
      ]
     },
     "execution_count": 12,
     "metadata": {},
     "output_type": "execute_result"
    }
   ],
   "source": [
    "litellm.completion(model=\"ollama/nekomata-instruct-7b\", messages=messages)"
   ]
  },
  {
   "cell_type": "code",
   "execution_count": null,
   "id": "d9de5143-68a4-494e-bd1e-de6a95359c28",
   "metadata": {},
   "outputs": [],
   "source": []
  }
 ],
 "metadata": {
  "kernelspec": {
   "display_name": "Python 3 (ipykernel)",
   "language": "python",
   "name": "python3"
  },
  "language_info": {
   "codemirror_mode": {
    "name": "ipython",
    "version": 3
   },
   "file_extension": ".py",
   "mimetype": "text/x-python",
   "name": "python",
   "nbconvert_exporter": "python",
   "pygments_lexer": "ipython3",
   "version": "3.10.12"
  }
 },
 "nbformat": 4,
 "nbformat_minor": 5
}
